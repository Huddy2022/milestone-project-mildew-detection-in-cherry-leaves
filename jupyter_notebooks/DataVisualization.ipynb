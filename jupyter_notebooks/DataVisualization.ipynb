{
 "cells": [
  {
   "cell_type": "markdown",
   "metadata": {
    "id": "0aStgWSO0E0E"
   },
   "source": [
    "# **Data Visualization Notebook**"
   ]
  },
  {
   "cell_type": "markdown",
   "metadata": {
    "id": "1eLEkw5O0ECa"
   },
   "source": [
    "## Objectives\n",
    "\n",
    "* Answer business requirement 1:\n",
    "   * The client is interested to have a study to visually differentiate between a healthy cherry leaf to one that has powdery mildew.\n",
    "\n",
    "## Inputs\n",
    "\n",
    "* Images are taken from the inputs/cherry-leave_dataset/cherry-leaves and their sub folders\n",
    "\n",
    "## Outputs\n",
    "\n",
    "* Compute the average image size from the train set\n",
    "* Image shape embeddings pickle file\n",
    "* Mean and variability of images per label plot\n",
    "* Plot to distinguish contrast between powdery mildew-contained and healthy cherry leaf images\n",
    "* Generate code that answers business requirement 1 and can be used to build image montage on Streamlit dashboard\n",
    "\n",
    "## Comments | Insights | Conclusions\n",
    "\n",
    "*   The input images need to have the same size for the CNN to work properly. The cells below help to create that, which is also apart of the business requirment set out by the client (Buisness requirment 1)\n",
    "\n"
   ]
  },
  {
   "cell_type": "markdown",
   "metadata": {
    "id": "9uWZXH9LwoQg"
   },
   "source": [
    "---"
   ]
  },
  {
   "source": [
    "# Import Libraries"
   ],
   "cell_type": "markdown",
   "metadata": {}
  },
  {
   "cell_type": "code",
   "execution_count": null,
   "metadata": {
    "tags": []
   },
   "outputs": [],
   "source": [
    "import os\n",
    "import pandas as pd\n",
    "import numpy as np\n",
    "import matplotlib.pyplot as plt\n",
    "import seaborn as sns\n",
    "import joblib\n",
    "sns.set_style(\"white\")\n",
    "from matplotlib.image import imread"
   ]
  },
  {
   "cell_type": "markdown",
   "metadata": {
    "id": "cqP-UeN-z3i2"
   },
   "source": [
    "# Change working directory"
   ]
  },
  {
   "cell_type": "markdown",
   "metadata": {},
   "source": [
    "* We are assuming you will store the notebooks in a subfolder, therefore when running the notebook in the editor, you will need to change the working directory"
   ]
  },
  {
   "cell_type": "markdown",
   "metadata": {
    "id": "aOGIGS-uz3i2"
   },
   "source": [
    "We need to change the working directory from its current folder to its parent folder\n",
    "* We access the current directory with os.getcwd()"
   ]
  },
  {
   "cell_type": "code",
   "execution_count": null,
   "metadata": {
    "id": "wZfF_j-Bz3i4",
    "outputId": "66943449-1436-4c3d-85c7-b85f9f78349b"
   },
   "outputs": [],
   "source": [
    "import os\n",
    "current_dir = os.getcwd()\n",
    "current_dir"
   ]
  },
  {
   "cell_type": "markdown",
   "metadata": {
    "id": "9MWW8E7lz3i7"
   },
   "source": [
    "We want to make the parent of the current directory the new current directory\n",
    "* os.path.dirname() gets the parent directory\n",
    "* os.chir() defines the new current directory"
   ]
  },
  {
   "cell_type": "code",
   "execution_count": null,
   "metadata": {
    "id": "TwHsQRWjz3i9",
    "outputId": "86849db3-cd2f-4cc5-ebb8-2d0caafa1a2c",
    "tags": []
   },
   "outputs": [],
   "source": [
    "os.chdir(os.path.dirname(current_dir))\n",
    "print(\"You set a new current directory\")"
   ]
  },
  {
   "cell_type": "markdown",
   "metadata": {
    "id": "M_xPk_Ijz3i-"
   },
   "source": [
    "Confirm the new current directory"
   ]
  },
  {
   "cell_type": "code",
   "execution_count": null,
   "metadata": {
    "id": "vz3S-_kjz3jA",
    "outputId": "00b79ae4-75d0-4a96-d193-ac9ef9847ea2"
   },
   "outputs": [],
   "source": [
    "current_dir = os.getcwd()\n",
    "current_dir"
   ]
  },
  {
   "cell_type": "markdown",
   "metadata": {
    "id": "-mavJ8DibrcQ"
   },
   "source": [
    "# Set input directories"
   ]
  },
  {
   "source": [
    "Set train, validation and test paths"
   ],
   "cell_type": "markdown",
   "metadata": {}
  },
  {
   "cell_type": "code",
   "execution_count": null,
   "metadata": {},
   "outputs": [],
   "source": [
    "my_data_dir = 'inputs/cherry-leaves_dataset/cherry-leaves'\n",
    "train_path = my_data_dir + '/train'\n",
    "val_path = my_data_dir + '/validation'\n",
    "test_path = my_data_dir + '/test'"
   ]
  },
  {
   "cell_type": "markdown",
   "metadata": {
    "id": "ZY3l0-AxO93d"
   },
   "source": [
    "---"
   ]
  },
  {
   "cell_type": "markdown",
   "metadata": {
    "id": "uFQo3ycuO-v6"
   },
   "source": [
    "# Set output directory"
   ]
  },
  {
   "source": [
    "version = 'v7'\n",
    "file_path = f'outputs/{version}'\n",
    "\n",
    "if 'outputs' in os.listdir(current_dir) and version in os.listdir(current_dir + '/outputs'):\n",
    "  print('Old version is already available create a new version.')\n",
    "  pass\n",
    "else:\n",
    "  os.makedirs(name=file_path)"
   ],
   "cell_type": "code",
   "metadata": {
    "tags": []
   },
   "execution_count": null,
   "outputs": []
  },
  {
   "source": [
    "## Set label names"
   ],
   "cell_type": "markdown",
   "metadata": {}
  },
  {
   "cell_type": "code",
   "execution_count": null,
   "metadata": {
    "tags": []
   },
   "outputs": [],
   "source": [
    "labels = os.listdir(train_path)\n",
    "print('Label for the images are',labels)"
   ]
  },
  {
   "source": [
    "---"
   ],
   "cell_type": "markdown",
   "metadata": {}
  },
  {
   "source": [
    "# Data visualisation of image data"
   ],
   "cell_type": "markdown",
   "metadata": {}
  },
  {
   "source": [
    "---"
   ],
   "cell_type": "markdown",
   "metadata": {}
  },
  {
   "source": [
    "## Image shape\n",
    "\n",
    "Compute average images' size on train set"
   ],
   "cell_type": "markdown",
   "metadata": {}
  },
  {
   "cell_type": "code",
   "execution_count": null,
   "metadata": {
    "tags": []
   },
   "outputs": [],
   "source": [
    "dim1, dim2 = [], []\n",
    "for label in labels:\n",
    "  for image_filename in os.listdir(train_path + '/'+ label):\n",
    "    img = imread(train_path + '/' + label + '/'+ image_filename)\n",
    "    d1, d2, colors = img.shape\n",
    "    dim1.append(d1) # image height\n",
    "    dim2.append(d2) # image width\n",
    "\n",
    "sns.set_style(\"whitegrid\")\n",
    "fig, axes = plt.subplots()\n",
    "sns.scatterplot(x=dim2, y=dim1, alpha=0.2)\n",
    "axes.set_xlabel(\"Width (pixels)\")\n",
    "axes.set_ylabel(\"Height (pixels)\")\n",
    "dim1_mean = int(np.array(dim1).mean())\n",
    "dim2_mean = int(np.array(dim2).mean())\n",
    "axes.axvline(x=dim1_mean,color='r', linestyle='--')\n",
    "axes.axhline(y=dim2_mean,color='r', linestyle='--')\n",
    "plt.show()\n",
    "print(f\"Width average: {dim2_mean} \\nHeight average: {dim1_mean}\")"
   ]
  },
  {
   "source": [
    "## Images size for training the model is the average from all images in the train set."
   ],
   "cell_type": "markdown",
   "metadata": {}
  },
  {
   "cell_type": "code",
   "execution_count": null,
   "metadata": {},
   "outputs": [],
   "source": [
    "image_shape = (100, 100, 3)\n",
    "image_shape"
   ]
  },
  {
   "source": [
    "Save the image shape embeddings"
   ],
   "cell_type": "markdown",
   "metadata": {}
  },
  {
   "cell_type": "code",
   "execution_count": null,
   "metadata": {},
   "outputs": [],
   "source": [
    "joblib.dump(value=image_shape ,\n",
    "            filename=f\"{file_path}/image_shape.pkl\")"
   ]
  },
  {
   "source": [
    "----"
   ],
   "cell_type": "markdown",
   "metadata": {}
  },
  {
   "source": [
    "# Average and variability of images per label"
   ],
   "cell_type": "markdown",
   "metadata": {}
  },
  {
   "source": [
    "## Function to load images in an array (tensor) and re shape to 50,50 pixels for a smaller mb model "
   ],
   "cell_type": "markdown",
   "metadata": {}
  },
  {
   "cell_type": "code",
   "execution_count": null,
   "metadata": {},
   "outputs": [],
   "source": [
    "from tensorflow.keras.preprocessing import image\n",
    "\n",
    "\n",
    "def load_image_as_array(my_data_dir, new_size=(50, 50), n_images_per_label=20):\n",
    "\n",
    "    X, y = np.array([], dtype='int'), np.array([], dtype='object')\n",
    "    labels = os.listdir(my_data_dir)\n",
    "\n",
    "    for label in labels:\n",
    "        counter = 0\n",
    "        for image_filename in os.listdir(my_data_dir + '/' + label):\n",
    "            # n_images_per_label: we set a limit, since it may take too much time\n",
    "            if counter < n_images_per_label:\n",
    "\n",
    "                img = image.load_img(\n",
    "                    my_data_dir + '/' + label + '/' + image_filename, target_size=new_size)\n",
    "                if image.img_to_array(img).max() > 1:\n",
    "                    img_resized = image.img_to_array(img) / 255\n",
    "                else:\n",
    "                    img_resized = image.img_to_array(img)\n",
    "\n",
    "                X = np.append(X, img_resized).reshape(-1,\n",
    "                                                      new_size[0], new_size[1], img_resized.shape[2])\n",
    "                y = np.append(y, label)\n",
    "                counter += 1\n",
    "\n",
    "    return X, y"
   ]
  },
  {
   "source": [
    "## Load image shapes and labels in an array"
   ],
   "cell_type": "markdown",
   "metadata": {}
  },
  {
   "cell_type": "code",
   "execution_count": null,
   "metadata": {
    "tags": []
   },
   "outputs": [],
   "source": [
    "X, y = load_image_as_array(my_data_dir=train_path,\n",
    "                           new_size=image_shape,\n",
    "                          n_images_per_label = 30)\n",
    "print(X.shape, y.shape)"
   ]
  },
  {
   "source": [
    "## Plot and save mean and variability of images per label"
   ],
   "cell_type": "markdown",
   "metadata": {}
  },
  {
   "cell_type": "code",
   "execution_count": null,
   "metadata": {},
   "outputs": [],
   "source": [
    "def plot_mean_variability_per_labels(X, y, figsize=(12,5), save_image=False):\n",
    "  \"\"\"\n",
    "   The pseudo code for the function is:\n",
    "  * Loop in all labels\n",
    "  * Subset an array for given label\n",
    "  * Calculate mean and standard deviation\n",
    "  * Create a figure displaying mean and variability of images\n",
    "  * Save image\n",
    "\n",
    "  \"\"\"\n",
    "\n",
    "  for label_to_display in np.unique(y):\n",
    "    sns.set_style(\"white\")\n",
    "\n",
    "    y = y.reshape(-1,1,1)\n",
    "    boolean_mask = np.any(y==label_to_display,axis=1).reshape(-1)\n",
    "    arr = X[boolean_mask]\n",
    "\n",
    "    avg_img = np.mean(arr, axis = 0)\n",
    "    std_img = np.std(arr, axis = 0)\n",
    "    print(f\"==== Label {label_to_display} ====\")\n",
    "    print(f\"Image Shape: {avg_img.shape}\")\n",
    "    fig, axes = plt.subplots(nrows=1, ncols=2, figsize=figsize)\n",
    "    axes[0].set_title(f\"Average Image for label {label_to_display}\")\n",
    "    axes[0].imshow(avg_img, cmap='gray')\n",
    "    axes[1].set_title(f\"Variability image for label {label_to_display}\")\n",
    "    axes[1].imshow(std_img, cmap='gray')\n",
    "\n",
    "    if save_image:\n",
    "      plt.savefig(f\"{file_path}/avg_var_{label_to_display}.png\", bbox_inches='tight', dpi=150)\n",
    "    else:\n",
    "      plt.tight_layout()\n",
    "      plt.show()\n",
    "      print(\"\\n\")"
   ]
  },
  {
   "cell_type": "code",
   "execution_count": null,
   "metadata": {
    "tags": []
   },
   "outputs": [],
   "source": [
    "plot_mean_variability_per_labels(X=X, y=y, figsize=(12,5),save_image=True)"
   ]
  },
  {
   "source": [
    "----"
   ],
   "cell_type": "markdown",
   "metadata": {}
  },
  {
   "source": [
    "## Difference between average healthy cherry leaves and average powdery-mildew infected"
   ],
   "cell_type": "markdown",
   "metadata": {}
  },
  {
   "cell_type": "code",
   "execution_count": null,
   "metadata": {},
   "outputs": [],
   "source": [
    "def subset_image_label(X,y,label_to_display):\n",
    "  y = y.reshape(-1,1,1)\n",
    "  boolean_mask = np.any(y==label_to_display,axis=1).reshape(-1)\n",
    "  df = X[boolean_mask]\n",
    "  return df\n",
    "\n",
    "\n",
    "def diff_bet_avg_image_labels_data_as_array(X, y, label_1, label_2, figsize=(20,5), save_image=False):\n",
    "  sns.set_style(\"white\")\n",
    "\n",
    "  if (label_1 not in np.unique(y)) or (label_2 not in np.unique(y)):\n",
    "    print(f\"Either label {label} or label {label_2}, are not in {np.unique(y)} \")\n",
    "    return\n",
    "\n",
    "  # calculate mean from label1\n",
    "  images_label = subset_image_label(X, y, label_1)\n",
    "  label1_avg = np.mean(images_label, axis = 0)\n",
    "\n",
    "  # calculate mean from label2\n",
    "  images_label = subset_image_label(X, y, label_2)\n",
    "  label2_avg = np.mean(images_label, axis = 0)\n",
    "\n",
    "  # calculate difference and plot difference, avg label1 and avg label2\n",
    "  difference_mean = label1_avg - label2_avg\n",
    "  fig, axes = plt.subplots(nrows=1, ncols=3, figsize=figsize)\n",
    "  axes[0].imshow(label1_avg, cmap='gray')\n",
    "  axes[0].set_title(f'Average {label_1}')\n",
    "  axes[1].imshow(label2_avg, cmap='gray')\n",
    "  axes[1].set_title(f'Average {label_2}')\n",
    "  axes[2].imshow(difference_mean, cmap='gray')\n",
    "  axes[2].set_title(f'Difference image: Avg {label_1} & {label_2}')\n",
    "  if save_image:\n",
    "    plt.savefig(f\"{file_path}/avg_diff.png\", bbox_inches='tight', dpi=150)\n",
    "  else:\n",
    "    plt.tight_layout()\n",
    "    plt.show()"
   ]
  },
  {
   "cell_type": "code",
   "execution_count": null,
   "metadata": {
    "tags": []
   },
   "outputs": [],
   "source": [
    "diff_bet_avg_image_labels_data_as_array(X=X, y=y, label_1='healthy', label_2='powdery_mildew',\n",
    "                                       figsize=(12,10),\n",
    "                                       save_image=True)"
   ]
  },
  {
   "source": [
    "----"
   ],
   "cell_type": "markdown",
   "metadata": {}
  },
  {
   "source": [
    "## Image montage"
   ],
   "cell_type": "markdown",
   "metadata": {}
  },
  {
   "cell_type": "code",
   "execution_count": null,
   "metadata": {},
   "outputs": [],
   "source": [
    "import itertools\n",
    "import random\n",
    "sns.set_style(\"white\")\n",
    "\n",
    "# logic\n",
    "# if label exists in the folder\n",
    "  # check if your montage space is greater tha nsubset size\n",
    "  # create list of axes indices based on nrows and ncols\n",
    "  # create a Figure and display images\n",
    "    # in this loop, load and plot given image\n",
    "\n",
    "\n",
    "def image_montage(dir_path, label_to_display, nrows, ncols, figsize=(15,10)):\n",
    "  \n",
    "\n",
    "  labels = os.listdir(dir_path)\n",
    "\n",
    "  # subset the class you are interested to display\n",
    "  if label_to_display in labels:\n",
    "\n",
    "    # checks if your montage space is greater than subset size\n",
    "    images_list = os.listdir(dir_path+'/'+ label_to_display)\n",
    "    if nrows * ncols < len(images_list):\n",
    "      img_idx = random.sample(images_list, nrows * ncols)\n",
    "    else:\n",
    "      print(\n",
    "          f\"Decrease nrows or ncols to create your montage. \\n\"\n",
    "          f\"There are {len(images_list)} in your subset. \"\n",
    "          f\"You requested a montage with {nrows * ncols} spaces\")\n",
    "      return\n",
    "    \n",
    "\n",
    "    # create list of axes indices based on nrows and ncols\n",
    "    list_rows= range(0,nrows)\n",
    "    list_cols= range(0,ncols)\n",
    "    plot_idx = list(itertools.product(list_rows,list_cols))\n",
    "\n",
    "\n",
    "    # create a Figure and display images\n",
    "    fig, axes = plt.subplots(nrows=nrows,ncols=ncols, figsize=figsize)\n",
    "    for x in range(0,nrows*ncols):\n",
    "      img = imread(dir_path + '/' + label_to_display + '/' + img_idx[x])\n",
    "      img_shape = img.shape\n",
    "      axes[plot_idx[x][0], plot_idx[x][1]].imshow(img)\n",
    "      axes[plot_idx[x][0], plot_idx[x][1]].set_title(f\"Width {img_shape[1]}px x Height {img_shape[0]}px\")\n",
    "      axes[plot_idx[x][0], plot_idx[x][1]].set_xticks([])\n",
    "      axes[plot_idx[x][0], plot_idx[x][1]].set_yticks([])\n",
    "    plt.tight_layout()\n",
    "    plt.show()\n",
    "\n",
    "\n",
    "  else:\n",
    "    print(\"The label you selected doesn't exist.\")\n",
    "    print(f\"The existing options are: {labels}\")"
   ]
  },
  {
   "source": [
    "### Run Montage in all labels"
   ],
   "cell_type": "markdown",
   "metadata": {}
  },
  {
   "cell_type": "code",
   "execution_count": null,
   "metadata": {
    "tags": []
   },
   "outputs": [],
   "source": [
    "for label in labels:\n",
    "  print(label)\n",
    "  image_montage(dir_path= train_path,\n",
    "                label_to_display= label,\n",
    "                nrows=3, ncols=3,\n",
    "                figsize=(10,15)\n",
    "                )\n",
    "  print(\"\\n\")"
   ]
  },
  {
   "cell_type": "markdown",
   "metadata": {},
   "source": [
    "---"
   ]
  },
  {
   "cell_type": "markdown",
   "metadata": {
    "id": "ltNetd085qHf"
   },
   "source": [
    "# Conclusion"
   ]
  },
  {
   "source": [
    "* We have checked all the train set images are the same size and then re shaped them\n",
    "* Found the average and variability of images per label\n",
    "* Found the difference between average healthy cherry leaves and average powdery-mildew infected\n",
    "* Created an image montage\n"
   ],
   "cell_type": "markdown",
   "metadata": {
    "id": "aKlnIozA4eQO",
    "outputId": "fd09bc1f-adb1-4511-f6ce-492a6af570c0"
   }
  }
 ],
 "metadata": {
  "accelerator": "GPU",
  "colab": {
   "name": "Data Practitioner Jupyter Notebook.ipynb",
   "provenance": [],
   "toc_visible": true
  },
  "interpreter": {
   "hash": "8b8334dab9339717f727a1deaf837b322d7a41c20d15cc86be99a8e69ceec8ce"
  },
  "kernelspec": {
   "display_name": "Python 3 (ipykernel)",
   "language": "python",
   "name": "python3"
  },
  "language_info": {
   "codemirror_mode": {
    "name": "ipython",
    "version": 3
   },
   "file_extension": ".py",
   "mimetype": "text/x-python",
   "name": "python",
   "nbconvert_exporter": "python",
   "pygments_lexer": "ipython3",
   "version": "3.8.12-final"
  }
 },
 "nbformat": 4,
 "nbformat_minor": 2
}